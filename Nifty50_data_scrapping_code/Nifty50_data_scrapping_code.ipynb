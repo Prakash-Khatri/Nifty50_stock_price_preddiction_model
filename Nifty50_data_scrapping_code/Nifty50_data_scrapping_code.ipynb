{
 "cells": [
  {
   "cell_type": "markdown",
   "id": "3aa775c0",
   "metadata": {},
   "source": [
    "### Importing Libraries"
   ]
  },
  {
   "cell_type": "code",
   "execution_count": 3,
   "id": "7c655766",
   "metadata": {},
   "outputs": [],
   "source": [
    "import pandas as pd\n",
    "import time"
   ]
  },
  {
   "cell_type": "code",
   "execution_count": 8,
   "id": "6010728d",
   "metadata": {},
   "outputs": [],
   "source": [
    "from selenium import webdriver\n",
    "from selenium.webdriver.common.by import By\n",
    "from selenium.webdriver.common.keys import Keys\n",
    "from selenium.webdriver.support.ui import Select"
   ]
  },
  {
   "cell_type": "markdown",
   "id": "75494402",
   "metadata": {},
   "source": [
    "#####  Downloading a CSV file containing the list of the first Nifty 50 stocks from the NSE website enables us to identify the trending shares for the day. Utilizing these names, we can iterate through various stock price data on Yahoo Finance."
   ]
  },
  {
   "cell_type": "code",
   "execution_count": 4,
   "id": "4f531ca0",
   "metadata": {},
   "outputs": [],
   "source": [
    "nifty_data = pd.read_csv(r'O:\\Masai\\Nifty_50_project\\MW-NIFTY-50-22-Oct-2023.csv')"
   ]
  },
  {
   "cell_type": "code",
   "execution_count": 5,
   "id": "c5e05723",
   "metadata": {
    "scrolled": true
   },
   "outputs": [
    {
     "data": {
      "text/html": [
       "<div>\n",
       "<style scoped>\n",
       "    .dataframe tbody tr th:only-of-type {\n",
       "        vertical-align: middle;\n",
       "    }\n",
       "\n",
       "    .dataframe tbody tr th {\n",
       "        vertical-align: top;\n",
       "    }\n",
       "\n",
       "    .dataframe thead th {\n",
       "        text-align: right;\n",
       "    }\n",
       "</style>\n",
       "<table border=\"1\" class=\"dataframe\">\n",
       "  <thead>\n",
       "    <tr style=\"text-align: right;\">\n",
       "      <th></th>\n",
       "      <th>SYMBOL \\n</th>\n",
       "      <th>OPEN \\n</th>\n",
       "      <th>HIGH \\n</th>\n",
       "      <th>LOW \\n</th>\n",
       "      <th>PREV. CLOSE \\n</th>\n",
       "      <th>LTP \\n</th>\n",
       "      <th>CHNG \\n</th>\n",
       "      <th>%CHNG \\n</th>\n",
       "      <th>VOLUME \\n(shares)</th>\n",
       "      <th>VALUE</th>\n",
       "      <th>52W H \\n</th>\n",
       "      <th>52W L \\n</th>\n",
       "      <th>30 D   %CHNG \\n</th>\n",
       "      <th>365 D % CHNG \\n 19-Oct-2022</th>\n",
       "    </tr>\n",
       "  </thead>\n",
       "  <tbody>\n",
       "    <tr>\n",
       "      <th>0</th>\n",
       "      <td>NIFTY 50</td>\n",
       "      <td>19,542.15</td>\n",
       "      <td>19,593.80</td>\n",
       "      <td>19,518.70</td>\n",
       "      <td>19,624.70</td>\n",
       "      <td>19,542.65</td>\n",
       "      <td>-82.05</td>\n",
       "      <td>-0.42</td>\n",
       "      <td>19,83,41,255</td>\n",
       "      <td>1,79,44,21,20,811.05</td>\n",
       "      <td>20,222.45</td>\n",
       "      <td>16,828.35</td>\n",
       "      <td>-1.80</td>\n",
       "      <td>11.27</td>\n",
       "    </tr>\n",
       "    <tr>\n",
       "      <th>1</th>\n",
       "      <td>KOTAKBANK</td>\n",
       "      <td>1,733.50</td>\n",
       "      <td>1,773.20</td>\n",
       "      <td>1,732.65</td>\n",
       "      <td>1,738.45</td>\n",
       "      <td>1,770.00</td>\n",
       "      <td>31.55</td>\n",
       "      <td>1.81</td>\n",
       "      <td>40,72,383</td>\n",
       "      <td>7,16,39,73,278.28</td>\n",
       "      <td>2,064.40</td>\n",
       "      <td>1,643.50</td>\n",
       "      <td>-1.11</td>\n",
       "      <td>-5.04</td>\n",
       "    </tr>\n",
       "    <tr>\n",
       "      <th>2</th>\n",
       "      <td>INDUSINDBK</td>\n",
       "      <td>1,448.00</td>\n",
       "      <td>1,471.80</td>\n",
       "      <td>1,443.10</td>\n",
       "      <td>1,450.35</td>\n",
       "      <td>1,469.00</td>\n",
       "      <td>18.65</td>\n",
       "      <td>1.29</td>\n",
       "      <td>51,35,316</td>\n",
       "      <td>7,51,74,86,386.08</td>\n",
       "      <td>1,475.65</td>\n",
       "      <td>990.00</td>\n",
       "      <td>1.99</td>\n",
       "      <td>26.65</td>\n",
       "    </tr>\n",
       "    <tr>\n",
       "      <th>3</th>\n",
       "      <td>SBILIFE</td>\n",
       "      <td>1,340.00</td>\n",
       "      <td>1,368.65</td>\n",
       "      <td>1,336.50</td>\n",
       "      <td>1,348.15</td>\n",
       "      <td>1,364.00</td>\n",
       "      <td>15.85</td>\n",
       "      <td>1.18</td>\n",
       "      <td>9,36,229</td>\n",
       "      <td>1,27,08,74,693.76</td>\n",
       "      <td>1,393.00</td>\n",
       "      <td>1,054.00</td>\n",
       "      <td>1.30</td>\n",
       "      <td>11.42</td>\n",
       "    </tr>\n",
       "    <tr>\n",
       "      <th>4</th>\n",
       "      <td>TCS</td>\n",
       "      <td>3,450.40</td>\n",
       "      <td>3,499.50</td>\n",
       "      <td>3,444.05</td>\n",
       "      <td>3,455.65</td>\n",
       "      <td>3,491.85</td>\n",
       "      <td>36.20</td>\n",
       "      <td>1.05</td>\n",
       "      <td>14,81,211</td>\n",
       "      <td>5,16,25,98,007.29</td>\n",
       "      <td>3,679.00</td>\n",
       "      <td>3,070.25</td>\n",
       "      <td>-3.09</td>\n",
       "      <td>10.68</td>\n",
       "    </tr>\n",
       "  </tbody>\n",
       "</table>\n",
       "</div>"
      ],
      "text/plain": [
       "    SYMBOL \\n    OPEN \\n    HIGH \\n     LOW \\n PREV. CLOSE \\n     LTP \\n  \\\n",
       "0    NIFTY 50  19,542.15  19,593.80  19,518.70      19,624.70  19,542.65   \n",
       "1   KOTAKBANK   1,733.50   1,773.20   1,732.65       1,738.45   1,770.00   \n",
       "2  INDUSINDBK   1,448.00   1,471.80   1,443.10       1,450.35   1,469.00   \n",
       "3     SBILIFE   1,340.00   1,368.65   1,336.50       1,348.15   1,364.00   \n",
       "4         TCS   3,450.40   3,499.50   3,444.05       3,455.65   3,491.85   \n",
       "\n",
       "   CHNG \\n  %CHNG \\n VOLUME \\n(shares)                VALUE    52W H \\n  \\\n",
       "0   -82.05     -0.42      19,83,41,255  1,79,44,21,20,811.05  20,222.45   \n",
       "1    31.55      1.81         40,72,383     7,16,39,73,278.28   2,064.40   \n",
       "2    18.65      1.29         51,35,316     7,51,74,86,386.08   1,475.65   \n",
       "3    15.85      1.18          9,36,229     1,27,08,74,693.76   1,393.00   \n",
       "4    36.20      1.05         14,81,211     5,16,25,98,007.29   3,679.00   \n",
       "\n",
       "    52W L \\n  30 D   %CHNG \\n 365 D % CHNG \\n 19-Oct-2022  \n",
       "0  16,828.35            -1.80                       11.27  \n",
       "1   1,643.50            -1.11                       -5.04  \n",
       "2     990.00             1.99                       26.65  \n",
       "3   1,054.00             1.30                       11.42  \n",
       "4   3,070.25            -3.09                       10.68  "
      ]
     },
     "execution_count": 5,
     "metadata": {},
     "output_type": "execute_result"
    }
   ],
   "source": [
    "nifty_data.head()"
   ]
  },
  {
   "cell_type": "code",
   "execution_count": 6,
   "id": "231346b2",
   "metadata": {},
   "outputs": [],
   "source": [
    "# This code will return the a list of names of shares\n",
    "co_names = [names for names in nifty_data.iloc[1:,0:1]['SYMBOL \\n']]"
   ]
  },
  {
   "cell_type": "code",
   "execution_count": 7,
   "id": "3f642c4a",
   "metadata": {},
   "outputs": [],
   "source": [
    "# This code will return a list of names from 'co_names' list plus '.NS' attaced to it for accurate search purpose.\n",
    "co_names = [name + '.NS' for name in co_names]\n",
    "not_reterived = []"
   ]
  },
  {
   "cell_type": "markdown",
   "id": "aae1e464",
   "metadata": {},
   "source": [
    "##### The given code employs Selenium and WebDriver libraries to automate the Yahoo Finance website, enabling the download of five years' worth of share data. After each iteration, it prints a completion message for the specific company. If an error occurs, the code appends the company name to a new list, which is then processed by another code."
   ]
  },
  {
   "cell_type": "code",
   "execution_count": 9,
   "id": "733bfa66",
   "metadata": {},
   "outputs": [
    {
     "name": "stdout",
     "output_type": "stream",
     "text": [
      "KOTAKBANK.NS Done!\n",
      "INDUSINDBK.NS Done!\n",
      "SBILIFE.NS Done!\n",
      "The data for TCS.NS could not be reterived.\n",
      "The data for NTPC.NS could not be reterived.\n",
      "NESTLEIND.NS Done!\n",
      "HDFCBANK.NS Done!\n",
      "TATACONSUM.NS Done!\n",
      "The data for BHARTIARTL.NS could not be reterived.\n",
      "HCLTECH.NS Done!\n",
      "BAJAJ-AUTO.NS Done!\n",
      "ASIANPAINT.NS Done!\n",
      "The data for BAJAJFINSV.NS could not be reterived.\n",
      "SUNPHARMA.NS Done!\n",
      "The data for ADANIPORTS.NS could not be reterived.\n",
      "ONGC.NS Done!\n",
      "The data for ICICIBANK.NS could not be reterived.\n",
      "HDFCLIFE.NS Done!\n",
      "ADANIENT.NS Done!\n",
      "INFY.NS Done!\n",
      "RELIANCE.NS Done!\n",
      "TECHM.NS Done!\n",
      "MARUTI.NS Done!\n",
      "LTIM.NS Done!\n",
      "BRITANNIA.NS Done!\n",
      "ULTRACEMCO.NS Done!\n",
      "TITAN.NS Done!\n",
      "WIPRO.NS Done!\n",
      "The data for EICHERMOT.NS could not be reterived.\n",
      "APOLLOHOSP.NS Done!\n",
      "COALINDIA.NS Done!\n",
      "The data for BAJFINANCE.NS could not be reterived.\n",
      "TATAMOTORS.NS Done!\n",
      "M&M.NS Done!\n",
      "DRREDDY.NS Done!\n",
      "JSWSTEEL.NS Done!\n",
      "AXISBANK.NS Done!\n",
      "The data for LT.NS could not be reterived.\n",
      "POWERGRID.NS Done!\n",
      "The data for GRASIM.NS could not be reterived.\n",
      "SBIN.NS Done!\n",
      "HINDALCO.NS Done!\n",
      "UPL.NS Done!\n",
      "HEROMOTOCO.NS Done!\n",
      "HINDUNILVR.NS Done!\n",
      "CIPLA.NS Done!\n",
      "DIVISLAB.NS Done!\n",
      "BPCL.NS Done!\n",
      "TATASTEEL.NS Done!\n",
      "ITC.NS Done!\n"
     ]
    }
   ],
   "source": [
    "\n",
    "for name in co_names:\n",
    "    try:\n",
    "        driver = webdriver.Chrome()\n",
    "        driver.maximize_window()\n",
    "        driver.get('https://finance.yahoo.com/')\n",
    "        time.sleep(5)\n",
    "        serach_box = driver.find_element(By.XPATH, '//*[@id=\"yfin-usr-qry\"]')\n",
    "        serach_box.send_keys(name)\n",
    "        time.sleep(5)\n",
    "        search_button = driver.find_element(By.XPATH, '//*[@id=\"header-desktop-search-button\"]')\n",
    "        search_button.click()\n",
    "        time.sleep(5)\n",
    "        historical_data = driver.find_element(By.XPATH, '//*[@id=\"quote-nav\"]/ul/li[5]/a/span')\n",
    "        historical_data.click()\n",
    "        time.sleep(10)\n",
    "        Date_selector = driver.find_element(By.XPATH, '//*[@id=\"Col1-1-HistoricalDataTable-Proxy\"]/section/div[1]/div[1]/div[1]/div')\n",
    "        Date_selector.click()\n",
    "        five_yr_button = driver.find_element(By.XPATH, '//*[@id=\"dropdown-menu\"]/div/ul[2]/li[3]/button')\n",
    "        five_yr_button.click()\n",
    "        apply_button = driver.find_element(By.XPATH, '//*[@id=\"Col1-1-HistoricalDataTable-Proxy\"]/section/div[1]/div[1]/button')\n",
    "        apply_button.click()\n",
    "        time.sleep(5)\n",
    "        download_button = driver.find_element(By.XPATH, '//*[@id=\"Col1-1-HistoricalDataTable-Proxy\"]/section/div[1]/div[2]/span[2]/a')\n",
    "        download_button.click()\n",
    "        time.sleep(10)\n",
    "        print(name, \"Done!\")\n",
    "        driver.quit()\n",
    "    \n",
    "    except:\n",
    "        driver.quit()\n",
    "        print(f'The data for {name} could not be reterived.')\n",
    "        not_reterived.append(name)\n"
   ]
  },
  {
   "cell_type": "code",
   "execution_count": 12,
   "id": "46b2519f",
   "metadata": {},
   "outputs": [
    {
     "data": {
      "text/plain": [
       "10"
      ]
     },
     "execution_count": 12,
     "metadata": {},
     "output_type": "execute_result"
    }
   ],
   "source": [
    "len(not_reterived)"
   ]
  },
  {
   "cell_type": "code",
   "execution_count": 13,
   "id": "1f2a929b",
   "metadata": {},
   "outputs": [
    {
     "name": "stdout",
     "output_type": "stream",
     "text": [
      "ITC.NS Done!\n",
      "ITC.NS Done!\n",
      "ITC.NS Done!\n",
      "ITC.NS Done!\n",
      "ITC.NS Done!\n",
      "ITC.NS Done!\n",
      "ITC.NS Done!\n",
      "ITC.NS Done!\n",
      "ITC.NS Done!\n",
      "ITC.NS Done!\n"
     ]
    }
   ],
   "source": [
    "while len(not_reterived) != 0:\n",
    "    try:\n",
    "        driver = webdriver.Chrome()\n",
    "        driver.maximize_window()\n",
    "        driver.get('https://finance.yahoo.com/')\n",
    "        time.sleep(5)\n",
    "        serach_box = driver.find_element(By.XPATH, '//*[@id=\"yfin-usr-qry\"]')\n",
    "        serach_box.send_keys(not_reterived[0])\n",
    "        time.sleep(5)\n",
    "        search_button = driver.find_element(By.XPATH, '//*[@id=\"header-desktop-search-button\"]')\n",
    "        search_button.click()\n",
    "        time.sleep(5)\n",
    "        historical_data = driver.find_element(By.XPATH, '//*[@id=\"quote-nav\"]/ul/li[5]/a/span')\n",
    "        historical_data.click()\n",
    "        time.sleep(10)\n",
    "        Date_selector = driver.find_element(By.XPATH, '//*[@id=\"Col1-1-HistoricalDataTable-Proxy\"]/section/div[1]/div[1]/div[1]/div')\n",
    "        Date_selector.click()\n",
    "        five_yr_button = driver.find_element(By.XPATH, '//*[@id=\"dropdown-menu\"]/div/ul[2]/li[3]/button')\n",
    "        five_yr_button.click()\n",
    "        apply_button = driver.find_element(By.XPATH, '//*[@id=\"Col1-1-HistoricalDataTable-Proxy\"]/section/div[1]/div[1]/button')\n",
    "        apply_button.click()\n",
    "        time.sleep(5)\n",
    "        download_button = driver.find_element(By.XPATH, '//*[@id=\"Col1-1-HistoricalDataTable-Proxy\"]/section/div[1]/div[2]/span[2]/a')\n",
    "        download_button.click()\n",
    "        time.sleep(10)\n",
    "        print(not_reterived[0], \"Done!\")\n",
    "        not_reterived.remove(not_reterived[0])\n",
    "        driver.quit()\n",
    "        \n",
    "    except:\n",
    "        driver.quit()\n",
    "        pass"
   ]
  },
  {
   "cell_type": "code",
   "execution_count": null,
   "id": "dadb4026",
   "metadata": {},
   "outputs": [],
   "source": []
  }
 ],
 "metadata": {
  "kernelspec": {
   "display_name": "Python 3 (ipykernel)",
   "language": "python",
   "name": "python3"
  },
  "language_info": {
   "codemirror_mode": {
    "name": "ipython",
    "version": 3
   },
   "file_extension": ".py",
   "mimetype": "text/x-python",
   "name": "python",
   "nbconvert_exporter": "python",
   "pygments_lexer": "ipython3",
   "version": "3.11.4"
  }
 },
 "nbformat": 4,
 "nbformat_minor": 5
}
